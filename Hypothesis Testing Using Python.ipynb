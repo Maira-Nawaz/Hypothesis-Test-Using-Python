{
 "cells": [
  {
   "cell_type": "markdown",
   "id": "ae48686d-6a01-4c6d-825f-5a476d3bb6fa",
   "metadata": {},
   "source": [
    "# Hypothesis Testing Using Python"
   ]
  },
  {
   "cell_type": "markdown",
   "id": "34585725-282b-4e1f-8dc8-7dc9c898e271",
   "metadata": {},
   "source": [
    "Hypothesis testing is a statistical method used to make inferences or draw conclusions about a population based on a sample of data. By formulating and testing hypotheses, researchers can determine whether there is sufficient evidence to support or refute a given claim or assumption. In hypothesis testing, we typically start with a *null hypothesis* (H0), which represents a default or no-effect assumption, and an *alternative hypothesis* (H1 or Ha), which reflects the effect or difference we aim to detect.n."
   ]
  },
  {
   "cell_type": "markdown",
   "id": "474c09f3-bcc2-4030-b1e6-7b0dc0c4258a",
   "metadata": {},
   "source": [
    "## Hypothesis testing Process"
   ]
  },
  {
   "cell_type": "markdown",
   "id": "92e5a89c-154f-4c3f-96f6-5e8fa30780cf",
   "metadata": {},
   "source": [
    "Hypothesis testing is a core method in data science, allowing us to make data-driven inferences and decisions about populations based on sample data. Here’s a structured process to follow for conducting hypothesis testing:\r\n",
    "\r\n",
    "1. **Collect the Required Data**: Gather all necessary data to perform the hypothesis test.\r\n",
    "2. **Define Hypotheses**: Establish the Null Hypothesis (H0) and Alternative Hypothesis (H1 or Ha).\r\n",
    "3. **Set the Significance Level (α)**: Determine the probability threshold for rejecting the null hypothesis, which indicates the likelihood of a Type I error.\r\n",
    "4. **Choose a Statistical Test**: Select an appropriate test, such as a t-test for comparing means, a chi-square test for categorical data, or ANOVA for comparing means across multiple groups.\r\n",
    "5. **Execute the Test**: Apply the chosen test to your data.\r\n",
    "6. **Interpret Results**: Analyze the p-value and draw conclusions based on the test results."
   ]
  },
  {
   "cell_type": "code",
   "execution_count": 1,
   "id": "f2af9c2b-d84a-4728-ad2f-78fee6d7f822",
   "metadata": {},
   "outputs": [],
   "source": [
    "import pandas as pd\n",
    "from scipy.stats import ttest_ind"
   ]
  },
  {
   "cell_type": "code",
   "execution_count": 3,
   "id": "a321a1dd-1f18-4eb8-bc02-52c8566ab982",
   "metadata": {},
   "outputs": [
    {
     "data": {
      "text/html": [
       "<div>\n",
       "<style scoped>\n",
       "    .dataframe tbody tr th:only-of-type {\n",
       "        vertical-align: middle;\n",
       "    }\n",
       "\n",
       "    .dataframe tbody tr th {\n",
       "        vertical-align: top;\n",
       "    }\n",
       "\n",
       "    .dataframe thead th {\n",
       "        text-align: right;\n",
       "    }\n",
       "</style>\n",
       "<table border=\"1\" class=\"dataframe\">\n",
       "  <thead>\n",
       "    <tr style=\"text-align: right;\">\n",
       "      <th></th>\n",
       "      <th>Theme</th>\n",
       "      <th>Click Through Rate</th>\n",
       "      <th>Conversion Rate</th>\n",
       "      <th>Bounce Rate</th>\n",
       "      <th>Scroll_Depth</th>\n",
       "      <th>Age</th>\n",
       "      <th>Location</th>\n",
       "      <th>Session_Duration</th>\n",
       "      <th>Purchases</th>\n",
       "      <th>Added_to_Cart</th>\n",
       "    </tr>\n",
       "  </thead>\n",
       "  <tbody>\n",
       "    <tr>\n",
       "      <th>0</th>\n",
       "      <td>Light Theme</td>\n",
       "      <td>0.054920</td>\n",
       "      <td>0.282367</td>\n",
       "      <td>0.405085</td>\n",
       "      <td>72.489458</td>\n",
       "      <td>25</td>\n",
       "      <td>Chennai</td>\n",
       "      <td>1535</td>\n",
       "      <td>No</td>\n",
       "      <td>Yes</td>\n",
       "    </tr>\n",
       "    <tr>\n",
       "      <th>1</th>\n",
       "      <td>Light Theme</td>\n",
       "      <td>0.113932</td>\n",
       "      <td>0.032973</td>\n",
       "      <td>0.732759</td>\n",
       "      <td>61.858568</td>\n",
       "      <td>19</td>\n",
       "      <td>Pune</td>\n",
       "      <td>303</td>\n",
       "      <td>No</td>\n",
       "      <td>Yes</td>\n",
       "    </tr>\n",
       "    <tr>\n",
       "      <th>2</th>\n",
       "      <td>Dark Theme</td>\n",
       "      <td>0.323352</td>\n",
       "      <td>0.178763</td>\n",
       "      <td>0.296543</td>\n",
       "      <td>45.737376</td>\n",
       "      <td>47</td>\n",
       "      <td>Chennai</td>\n",
       "      <td>563</td>\n",
       "      <td>Yes</td>\n",
       "      <td>Yes</td>\n",
       "    </tr>\n",
       "    <tr>\n",
       "      <th>3</th>\n",
       "      <td>Light Theme</td>\n",
       "      <td>0.485836</td>\n",
       "      <td>0.325225</td>\n",
       "      <td>0.245001</td>\n",
       "      <td>76.305298</td>\n",
       "      <td>58</td>\n",
       "      <td>Pune</td>\n",
       "      <td>385</td>\n",
       "      <td>Yes</td>\n",
       "      <td>No</td>\n",
       "    </tr>\n",
       "    <tr>\n",
       "      <th>4</th>\n",
       "      <td>Light Theme</td>\n",
       "      <td>0.034783</td>\n",
       "      <td>0.196766</td>\n",
       "      <td>0.765100</td>\n",
       "      <td>48.927407</td>\n",
       "      <td>25</td>\n",
       "      <td>New Delhi</td>\n",
       "      <td>1437</td>\n",
       "      <td>No</td>\n",
       "      <td>No</td>\n",
       "    </tr>\n",
       "  </tbody>\n",
       "</table>\n",
       "</div>"
      ],
      "text/plain": [
       "         Theme  Click Through Rate  Conversion Rate  Bounce Rate  \\\n",
       "0  Light Theme            0.054920         0.282367     0.405085   \n",
       "1  Light Theme            0.113932         0.032973     0.732759   \n",
       "2   Dark Theme            0.323352         0.178763     0.296543   \n",
       "3  Light Theme            0.485836         0.325225     0.245001   \n",
       "4  Light Theme            0.034783         0.196766     0.765100   \n",
       "\n",
       "   Scroll_Depth  Age   Location  Session_Duration Purchases Added_to_Cart  \n",
       "0     72.489458   25    Chennai              1535        No           Yes  \n",
       "1     61.858568   19       Pune               303        No           Yes  \n",
       "2     45.737376   47    Chennai               563       Yes           Yes  \n",
       "3     76.305298   58       Pune               385       Yes            No  \n",
       "4     48.927407   25  New Delhi              1437        No            No  "
      ]
     },
     "execution_count": 3,
     "metadata": {},
     "output_type": "execute_result"
    }
   ],
   "source": [
    "df = pd.read_csv(\"C:\\\\Users\\\\hp\\\\Downloads\\\\website_ab_test.csv\")\n",
    "\n",
    "df.head()"
   ]
  },
  {
   "cell_type": "markdown",
   "id": "c1fb06a3-c34f-49f6-ad05-304f22b82cb1",
   "metadata": {},
   "source": [
    "## User Engagement Metrics Summary for Website Theme Evaluation"
   ]
  },
  {
   "cell_type": "markdown",
   "id": "ee590dcf-814c-496a-995c-3f6565d1abf6",
   "metadata": {},
   "source": [
    "The dataset examines the performance of two website themes, and our goal is to determine which theme performs better through hypothesis testing. Let’s start with a summary of the dataset, including the number of records, the presence of missing values, and basic statistics for the numerical columns:"
   ]
  },
  {
   "cell_type": "code",
   "execution_count": 6,
   "id": "3972666d-9cdf-4fb5-8202-e219256e3efd",
   "metadata": {},
   "outputs": [
    {
     "data": {
      "text/plain": [
       "{'Number of Records': 1000,\n",
       " 'Number of Columns': 10,\n",
       " 'Missing Values': Theme                 0\n",
       " Click Through Rate    0\n",
       " Conversion Rate       0\n",
       " Bounce Rate           0\n",
       " Scroll_Depth          0\n",
       " Age                   0\n",
       " Location              0\n",
       " Session_Duration      0\n",
       " Purchases             0\n",
       " Added_to_Cart         0\n",
       " dtype: int64,\n",
       " 'Numerical Columns Summary':        Click Through Rate  Conversion Rate  Bounce Rate  Scroll_Depth  \\\n",
       " count         1000.000000      1000.000000  1000.000000   1000.000000   \n",
       " mean             0.256048         0.253312     0.505758     50.319494   \n",
       " std              0.139265         0.139092     0.172195     16.895269   \n",
       " min              0.010767         0.010881     0.200720     20.011738   \n",
       " 25%              0.140794         0.131564     0.353609     35.655167   \n",
       " 50%              0.253715         0.252823     0.514049     51.130712   \n",
       " 75%              0.370674         0.373040     0.648557     64.666258   \n",
       " max              0.499989         0.498916     0.799658     79.997108   \n",
       " \n",
       "                Age  Session_Duration  \n",
       " count  1000.000000       1000.000000  \n",
       " mean     41.528000        924.999000  \n",
       " std      14.114334        508.231723  \n",
       " min      18.000000         38.000000  \n",
       " 25%      29.000000        466.500000  \n",
       " 50%      42.000000        931.000000  \n",
       " 75%      54.000000       1375.250000  \n",
       " max      65.000000       1797.000000  }"
      ]
     },
     "execution_count": 6,
     "metadata": {},
     "output_type": "execute_result"
    }
   ],
   "source": [
    "# dataset summary\n",
    "summary = {\n",
    "    'Number of Records': df.shape[0],\n",
    "    'Number of Columns': df.shape[1],\n",
    "    'Missing Values': df.isnull().sum(),\n",
    "    'Numerical Columns Summary': df.describe()\n",
    "}\n",
    "summary"
   ]
  },
  {
   "cell_type": "markdown",
   "id": "df3acc27-0bdc-4c31-91b7-3480a12eda31",
   "metadata": {},
   "source": [
    "The dataset consists of 1,000 records and 10 columns, with no missing values. Here’s a breakdown of the numerical columns:\n",
    "\n",
    "- **Click Through Rate (CTR)**: This metric measures the percentage of clicks relative to views, ranging from 0.01 to 0.50, with an average CTR around 0.26. This suggests that, on average, 26% of visitors click on the content.\n",
    "\n",
    "- **Conversion Rate**: This rate, similar in range to the CTR, spans from 0.01 to 0.50, with a mean of about 0.25. This implies that approximately 25% of visitors complete a desired action, like signing up or making a purchase.\n",
    "\n",
    "- **Bounce Rate**: The bounce rate, which represents the percentage of visitors who leave without interacting further, varies from 0.20 to 0.80, with an average rate of 0.51. This suggests that, on average, 51% of visitors do not engage with additional content.\n",
    "\n",
    "- **Scroll Depth**: This metric indicates how far down a page users scroll, ranging from 20.01% to nearly 80%, with an average depth of 50.32%. This shows a moderate level of engagement, with users scrolling about halfway through a page on average.\n",
    "\n",
    "- **Age**: User age ranges between 18 and 65, with an average age of about 41.5 years, suggesting a diverse age range for website users.\n",
    "\n",
    "- **Session Duration**: Session duration spans significantly, from as short as 38 seconds to around 1,800 seconds (or 30 minutes), with an average session lasting approximately 925 seconds (around 15 minutes). This indicates variable engagement levels, with an average session suggesting moderate interaction. \n",
    "\n",
    "These summary statistics provide insight into user engagement and behavior metrics, which are key for evaluating website theme performance through hypothesis testing."
   ]
  },
  {
   "cell_type": "markdown",
   "id": "7e0fd779-0e85-4ed8-99b2-6a879953f02b",
   "metadata": {},
   "source": [
    "## Comparative Analysis of Website Theme Performance Using Hypothesis Testing"
   ]
  },
  {
   "cell_type": "markdown",
   "id": "9274eab7-0c13-4fa8-9667-8379a8c0640d",
   "metadata": {},
   "source": [
    "Next, let's compare the performance of the two themes using key metrics such as the average Click Through Rate, Conversion Rate, Bounce Rate, and other relevant indicators. By analyzing these metrics for each theme, we can observe any notable differences in user engagement. Following this comparison, we’ll conduct hypothesis testing to determine if any observed differences are statistically significant. \n",
    "\n",
    "This approach allows us to:\n",
    "\n",
    "1. **Assess User Engagement**: By comparing metrics like Click Through Rate and Conversion Rate, we can evaluate which theme attracts and converts users more effectively.\n",
    "  \n",
    "2. **Identify Bounce and Interaction Differences**: Looking at Bounce Rate and Scroll Depth helps us see if one theme keeps users engaged for longer.\n",
    "\n",
    "3. **Validate Differences with Hypothesis Testing**: Hypothesis testing will help confirm whether the differences we observe are meaningful or if they could have occurred by chance, helping us make a data-driven decision about theme performance. \n",
    "\n",
    "This process ensures a comprehensive and statistically backed evaluation of each theme’s effectiveness."
   ]
  },
  {
   "cell_type": "code",
   "execution_count": 11,
   "id": "335206e8-07d0-4a7f-abb2-64b05706a9f1",
   "metadata": {},
   "outputs": [
    {
     "data": {
      "text/html": [
       "<div>\n",
       "<style scoped>\n",
       "    .dataframe tbody tr th:only-of-type {\n",
       "        vertical-align: middle;\n",
       "    }\n",
       "\n",
       "    .dataframe tbody tr th {\n",
       "        vertical-align: top;\n",
       "    }\n",
       "\n",
       "    .dataframe thead th {\n",
       "        text-align: right;\n",
       "    }\n",
       "</style>\n",
       "<table border=\"1\" class=\"dataframe\">\n",
       "  <thead>\n",
       "    <tr style=\"text-align: right;\">\n",
       "      <th></th>\n",
       "      <th>Click Through Rate</th>\n",
       "      <th>Conversion Rate</th>\n",
       "      <th>Bounce Rate</th>\n",
       "      <th>Scroll_Depth</th>\n",
       "      <th>Age</th>\n",
       "      <th>Session_Duration</th>\n",
       "    </tr>\n",
       "    <tr>\n",
       "      <th>Theme</th>\n",
       "      <th></th>\n",
       "      <th></th>\n",
       "      <th></th>\n",
       "      <th></th>\n",
       "      <th></th>\n",
       "      <th></th>\n",
       "    </tr>\n",
       "  </thead>\n",
       "  <tbody>\n",
       "    <tr>\n",
       "      <th>Light Theme</th>\n",
       "      <td>0.247109</td>\n",
       "      <td>0.255459</td>\n",
       "      <td>0.499035</td>\n",
       "      <td>50.735232</td>\n",
       "      <td>41.734568</td>\n",
       "      <td>930.833333</td>\n",
       "    </tr>\n",
       "    <tr>\n",
       "      <th>Dark Theme</th>\n",
       "      <td>0.264501</td>\n",
       "      <td>0.251282</td>\n",
       "      <td>0.512115</td>\n",
       "      <td>49.926404</td>\n",
       "      <td>41.332685</td>\n",
       "      <td>919.482490</td>\n",
       "    </tr>\n",
       "  </tbody>\n",
       "</table>\n",
       "</div>"
      ],
      "text/plain": [
       "             Click Through Rate  Conversion Rate  Bounce Rate  Scroll_Depth  \\\n",
       "Theme                                                                         \n",
       "Light Theme            0.247109         0.255459     0.499035     50.735232   \n",
       "Dark Theme             0.264501         0.251282     0.512115     49.926404   \n",
       "\n",
       "                   Age  Session_Duration  \n",
       "Theme                                     \n",
       "Light Theme  41.734568        930.833333  \n",
       "Dark Theme   41.332685        919.482490  "
      ]
     },
     "execution_count": 11,
     "metadata": {},
     "output_type": "execute_result"
    }
   ],
   "source": [
    "# Convert relevant columns to numeric\n",
    "df['Conversion Rate'] = pd.to_numeric(df['Conversion Rate'], errors='coerce')\n",
    "\n",
    "# Handle NaN values if necessary\n",
    "df.dropna(subset=['Conversion Rate'], inplace=True)\n",
    "\n",
    "# Group by 'Theme' and calculate mean values for the metrics\n",
    "theme_performance = df.groupby('Theme').mean(numeric_only=True)\n",
    "\n",
    "# Sort the data by conversion rate for a better comparison\n",
    "theme_performance_sorted = theme_performance.sort_values(by='Conversion Rate', ascending=False)\n",
    "\n",
    "# Display the sorted DataFrame\n",
    "theme_performance_sorted"
   ]
  },
  {
   "cell_type": "markdown",
   "id": "49796a26-c1b2-4bb9-8ccc-d9c32e6ea7b7",
   "metadata": {},
   "source": [
    "The comparison of average performance metrics between the Light Theme and Dark Theme provides the following insights:\n",
    "\n",
    "- **Click Through Rate (CTR):** The Dark Theme shows a slightly higher average CTR of 0.2645, while the Light Theme has a CTR of 0.2471.\n",
    "  \n",
    "- **Conversion Rate:** The Light Theme outperforms the Dark Theme with a marginally higher average Conversion Rate of 0.2555 compared to 0.2513.\n",
    "\n",
    "- **Bounce Rate:** Users exhibit a higher Bounce Rate with the Dark Theme (0.5121) than with the Light Theme (0.4990).\n",
    "\n",
    "- **Scroll Depth:** On average, users scroll further in the Light Theme (50.74%) compared to the Dark Theme (49.93%).\n",
    "\n",
    "- **Age:** The average age of users is comparable across both themes, with the Light Theme averaging about 41.73 years and the Dark Theme at approximately 41.33 years.\n",
    "\n",
    "- **Session Duration:** Users engaged with the Light Theme spend slightly more time on the site, averaging 930.83 seconds, compared to 919.48 seconds for the Dark Theme."
   ]
  },
  {
   "cell_type": "markdown",
   "id": "e073eea7-bccc-47a3-8eec-c07e92138acc",
   "metadata": {},
   "source": [
    "The Dark Theme seems to attract clicks more effectively, but the Light Theme outperforms in terms of conversion rates, bounce rates, and user engagement metrics like scroll depth and session duration"
   ]
  },
  {
   "cell_type": "markdown",
   "id": "ec6c364e-698d-49ff-b588-82d88d966d64",
   "metadata": {},
   "source": [
    "## Getting Started with Hypothesis Testing"
   ]
  },
  {
   "cell_type": "markdown",
   "id": "bf3c3a6d-ea6f-4e08-85e5-00321d57e8cc",
   "metadata": {},
   "source": [
    "We will set a significance level (alpha) of 0.05 for our hypothesis testing. This means we will consider a result statistically significant if the p-value from our test is below 0.05.\n",
    "\n",
    "Next, we will conduct hypothesis testing to compare the Conversion Rates between the Light Theme and Dark Theme. Our hypotheses are defined as follows:\n",
    "\n",
    "- **Null Hypothesis (H0):** There is no difference in Conversion Rates between the Light Theme and Dark Theme.\n",
    "- **Alternative Hypothesis (Ha):** There is a difference in Conversion Rates between the Light Theme and Dark Theme.\n",
    "\n",
    "To compare the means of these two independent samples, we will use a two-sample t-test. Let’s proceed with the test."
   ]
  },
  {
   "cell_type": "markdown",
   "id": "f7fcd352-ad97-4e9c-8104-4d2bed3a83db",
   "metadata": {},
   "source": [
    "### Hypothesis testing based on the Conversion Rate between the Light Theme and Dark Theme"
   ]
  },
  {
   "cell_type": "code",
   "execution_count": 12,
   "id": "d13e60f1-8621-4c13-a868-aa02e691e535",
   "metadata": {},
   "outputs": [
    {
     "data": {
      "text/plain": [
       "(0.4748494462782632, 0.6349982678451778)"
      ]
     },
     "execution_count": 12,
     "metadata": {},
     "output_type": "execute_result"
    }
   ],
   "source": [
    "# extracting conversion rates for both themes\n",
    "conversion_rates_light = df[df['Theme'] == 'Light Theme']['Conversion Rate']\n",
    "conversion_rates_dark = df[df['Theme'] == 'Dark Theme']['Conversion Rate']\n",
    "\n",
    "# performing a two-sample t-test\n",
    "t_stat, p_value = ttest_ind(conversion_rates_light, conversion_rates_dark, equal_var=False)\n",
    "\n",
    "t_stat, p_value"
   ]
  },
  {
   "cell_type": "markdown",
   "id": "a65c081f-7dcf-4c70-8173-368e8c9e4bc6",
   "metadata": {},
   "source": [
    "This code performs the following functions:\r\n",
    "\r\n",
    "1. **Extracts Conversion Rates**: It retrieves the conversion rates for users who interacted with the Light Theme and the Dark Theme from a DataFrame (`df`).\r\n",
    "\r\n",
    "2. **Conducts a Two-Sample T-Test**: It performs a statistical comparison (two-sample t-test) to evaluate if there is a significant difference between the average conversion rates of the two themes. The `equal_var=False` parameter indicates that the two samples may have different variances. \r\n",
    "\r\n",
    "3. **Returns Statistics**: It outputs the t-statistic (`t_stat`) and p-value (`p_value`), which are used to assess the significance of the difference between the two groups' conversion rates."
   ]
  },
  {
   "cell_type": "markdown",
   "id": "f97189c2-b8d5-4b95-9662-412a8f365f55",
   "metadata": {},
   "source": [
    "The result of the two-sample t-test gives a p-value of approximately 0.635. Since this p-value is much greater than our significance level of 0.05, we do not have enough evidence to reject the null hypothesis. Therefore, we conclude that there is no statistically significant difference in Conversion Rates between the Light Theme and Dark Theme based on the data provided."
   ]
  },
  {
   "cell_type": "markdown",
   "id": "7d1f5237-eac0-440c-a89d-a378fc70cdd6",
   "metadata": {},
   "source": [
    "### Hypothesis testing based on the Click Through Rate (CTR)"
   ]
  },
  {
   "cell_type": "code",
   "execution_count": 13,
   "id": "895eec30-1d02-4b0f-b6e1-5c193ad0fe4a",
   "metadata": {},
   "outputs": [
    {
     "data": {
      "text/plain": [
       "(-1.9781708664172253, 0.04818435371010704)"
      ]
     },
     "execution_count": 13,
     "metadata": {},
     "output_type": "execute_result"
    }
   ],
   "source": [
    "# extracting click through rates for both themes\n",
    "ctr_light = df[df['Theme'] == 'Light Theme']['Click Through Rate']\n",
    "ctr_dark = df[df['Theme'] == 'Dark Theme']['Click Through Rate']\n",
    "\n",
    "# performing a two-sample t-test\n",
    "t_stat_ctr, p_value_ctr = ttest_ind(ctr_light, ctr_dark, equal_var=False)\n",
    "\n",
    "t_stat_ctr, p_value_ctr"
   ]
  },
  {
   "cell_type": "markdown",
   "id": "aaa8e274-0074-434f-893b-069d606caea2",
   "metadata": {},
   "source": [
    "The two-sample t-test for Click Through Rate (CTR) between the Light Theme and Dark Theme results in a p-value of about 0.048. Since this p-value is slightly below our significance level of 0.05, it suggests a statistically significant difference in CTRs between the two themes. This indicates that the Dark Theme likely has a higher CTR based on the direction of the test statistic."
   ]
  },
  {
   "cell_type": "markdown",
   "id": "d9291b15-3fe4-4317-93c3-636b957c41f3",
   "metadata": {},
   "source": [
    "### Hypothesis Testing based on two other metrics: bounce rate and scroll depth"
   ]
  },
  {
   "cell_type": "code",
   "execution_count": 16,
   "id": "bfab378d-12b3-40be-971e-f8a2c1a83c7b",
   "metadata": {},
   "outputs": [
    {
     "data": {
      "text/plain": [
       "(0.7562277864140986, 0.4496919249484911)"
      ]
     },
     "execution_count": 16,
     "metadata": {},
     "output_type": "execute_result"
    }
   ],
   "source": [
    "# extracting bounce rates for both themes\n",
    "bounce_rates_light = df[df['Theme'] == 'Light Theme']['Bounce Rate']\n",
    "bounce_rates_dark = df[df['Theme'] == 'Dark Theme']['Bounce Rate']\n",
    "\n",
    "# performing a two-sample t-test for bounce rate\n",
    "t_stat_bounce, p_value_bounce = ttest_ind(bounce_rates_light, bounce_rates_dark, equal_var=False)\n",
    "\n",
    "# extracting scroll depths for both themes\n",
    "scroll_depth_light = df[df['Theme'] == 'Light Theme']['Scroll_Depth']\n",
    "scroll_depth_dark = df[df['Theme'] == 'Dark Theme']['Scroll_Depth']\n",
    "\n",
    "# performing a two-sample t-test for scroll depth\n",
    "t_stat_scroll, p_value_scroll = ttest_ind(scroll_depth_light, scroll_depth_dark, equal_var=False)\n",
    "t_stat_scroll,p_value_scroll"
   ]
  },
  {
   "cell_type": "code",
   "execution_count": 17,
   "id": "da280c43-d83a-48be-9904-e728e9fcb277",
   "metadata": {},
   "outputs": [
    {
     "data": {
      "text/html": [
       "<div>\n",
       "<style scoped>\n",
       "    .dataframe tbody tr th:only-of-type {\n",
       "        vertical-align: middle;\n",
       "    }\n",
       "\n",
       "    .dataframe tbody tr th {\n",
       "        vertical-align: top;\n",
       "    }\n",
       "\n",
       "    .dataframe thead th {\n",
       "        text-align: right;\n",
       "    }\n",
       "</style>\n",
       "<table border=\"1\" class=\"dataframe\">\n",
       "  <thead>\n",
       "    <tr style=\"text-align: right;\">\n",
       "      <th></th>\n",
       "      <th>Metric</th>\n",
       "      <th>T-Statistic</th>\n",
       "      <th>P-Value</th>\n",
       "    </tr>\n",
       "  </thead>\n",
       "  <tbody>\n",
       "    <tr>\n",
       "      <th>0</th>\n",
       "      <td>Click Through Rate</td>\n",
       "      <td>-1.978171</td>\n",
       "      <td>0.048184</td>\n",
       "    </tr>\n",
       "    <tr>\n",
       "      <th>1</th>\n",
       "      <td>Conversion Rate</td>\n",
       "      <td>0.474849</td>\n",
       "      <td>0.634998</td>\n",
       "    </tr>\n",
       "    <tr>\n",
       "      <th>2</th>\n",
       "      <td>Bounce Rate</td>\n",
       "      <td>-1.201888</td>\n",
       "      <td>0.229692</td>\n",
       "    </tr>\n",
       "    <tr>\n",
       "      <th>3</th>\n",
       "      <td>Scroll Depth</td>\n",
       "      <td>0.756228</td>\n",
       "      <td>0.449692</td>\n",
       "    </tr>\n",
       "  </tbody>\n",
       "</table>\n",
       "</div>"
      ],
      "text/plain": [
       "               Metric  T-Statistic   P-Value\n",
       "0  Click Through Rate    -1.978171  0.048184\n",
       "1     Conversion Rate     0.474849  0.634998\n",
       "2         Bounce Rate    -1.201888  0.229692\n",
       "3        Scroll Depth     0.756228  0.449692"
      ]
     },
     "execution_count": 17,
     "metadata": {},
     "output_type": "execute_result"
    }
   ],
   "source": [
    "# creating a table for comparison\n",
    "comparison_table = pd.DataFrame({\n",
    "    'Metric': ['Click Through Rate', 'Conversion Rate', 'Bounce Rate', 'Scroll Depth'],\n",
    "    'T-Statistic': [t_stat_ctr, t_stat, t_stat_bounce, t_stat_scroll],\n",
    "    'P-Value': [p_value_ctr, p_value, p_value_bounce, p_value_scroll]\n",
    "})\n",
    "\n",
    "comparison_table"
   ]
  },
  {
   "cell_type": "markdown",
   "id": "21801d00-2781-4fb6-94bb-d2d001d2f889",
   "metadata": {},
   "source": [
    "**Click Through Rate**: The test reveals a statistically significant difference, with the Dark Theme likely performing better (P-Value = 0.048).\n",
    "\n",
    "**Conversion Rate**: No statistically significant difference was found (P-Value = 0.635).\n",
    "\n",
    "**Bounce Rate**: There’s no statistically significant difference in Bounce Rates between the themes (P-Value = 0.230).\n",
    "\n",
    "**Scroll Depth**: Similarly, no statistically significant difference is observed in Scroll Depths (P-Value = 0.450)."
   ]
  },
  {
   "cell_type": "markdown",
   "id": "7ebfe73e-abf6-4795-ba89-e1a29a772dc9",
   "metadata": {},
   "source": [
    "In summary, while the two themes perform similarly across most metrics, the Dark Theme has a slight edge in terms of engaging users to click through. For other key performance indicators like Conversion Rate, Bounce Rate, and Scroll Depth, the choice between a Light Theme and a Dark Theme does not significantly affect user behaviour according to the data provided."
   ]
  },
  {
   "cell_type": "code",
   "execution_count": null,
   "id": "c61208fb-2706-4f4a-ac74-1611f9f460ee",
   "metadata": {},
   "outputs": [],
   "source": []
  }
 ],
 "metadata": {
  "kernelspec": {
   "display_name": "Python 3 (ipykernel)",
   "language": "python",
   "name": "python3"
  },
  "language_info": {
   "codemirror_mode": {
    "name": "ipython",
    "version": 3
   },
   "file_extension": ".py",
   "mimetype": "text/x-python",
   "name": "python",
   "nbconvert_exporter": "python",
   "pygments_lexer": "ipython3",
   "version": "3.12.4"
  }
 },
 "nbformat": 4,
 "nbformat_minor": 5
}
